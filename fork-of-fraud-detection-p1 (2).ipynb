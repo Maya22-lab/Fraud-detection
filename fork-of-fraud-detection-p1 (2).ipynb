{
 "cells": [
  {
   "cell_type": "code",
   "execution_count": 1,
   "id": "588c1931",
   "metadata": {
    "execution": {
     "iopub.execute_input": "2025-07-21T14:11:36.742120Z",
     "iopub.status.busy": "2025-07-21T14:11:36.741710Z",
     "iopub.status.idle": "2025-07-21T14:11:51.311427Z",
     "shell.execute_reply": "2025-07-21T14:11:51.309641Z"
    },
    "papermill": {
     "duration": 14.582337,
     "end_time": "2025-07-21T14:11:51.313598",
     "exception": false,
     "start_time": "2025-07-21T14:11:36.731261",
     "status": "completed"
    },
    "tags": []
   },
   "outputs": [
    {
     "name": "stdout",
     "output_type": "stream",
     "text": [
      "\u001b[2K   \u001b[90m━━━━━━━━━━━━━━━━━━━━━━━━━━━━━━━━━━━━━━━━\u001b[0m \u001b[32m10.9/10.9 MB\u001b[0m \u001b[31m63.3 MB/s\u001b[0m eta \u001b[36m0:00:00\u001b[0m\r\n",
      "\u001b[?25h\u001b[31mERROR: pip's dependency resolver does not currently take into account all the packages that are installed. This behaviour is the source of the following dependency conflicts.\r\n",
      "cesium 0.12.4 requires numpy<3.0,>=2.0, but you have numpy 1.26.4 which is incompatible.\r\n",
      "imbalanced-learn 0.13.0 requires scikit-learn<2,>=1.3.2, but you have scikit-learn 1.3.0 which is incompatible.\r\n",
      "mlxtend 0.23.4 requires scikit-learn>=1.3.1, but you have scikit-learn 1.3.0 which is incompatible.\u001b[0m\u001b[31m\r\n",
      "\u001b[0m"
     ]
    }
   ],
   "source": [
    "import numpy as np\n",
    "import pandas as pd\n",
    "import matplotlib.pyplot as plt\n",
    "import seaborn as sns\n",
    "from sklearn.model_selection import train_test_split, cross_val_score\n",
    "from sklearn.metrics import classification_report, roc_auc_score, confusion_matrix\n",
    "from sklearn.ensemble import RandomForestClassifier\n",
    "from sklearn.preprocessing import LabelEncoder\n",
    "\n",
    "\n",
    "\n",
    "!pip install -Uq scikit-learn==1.3.0\n"
   ]
  },
  {
   "cell_type": "code",
   "execution_count": 2,
   "id": "04fc7b4e",
   "metadata": {
    "execution": {
     "iopub.execute_input": "2025-07-21T14:11:51.332032Z",
     "iopub.status.busy": "2025-07-21T14:11:51.331267Z",
     "iopub.status.idle": "2025-07-21T14:11:51.337864Z",
     "shell.execute_reply": "2025-07-21T14:11:51.336897Z"
    },
    "papermill": {
     "duration": 0.017741,
     "end_time": "2025-07-21T14:11:51.339742",
     "exception": false,
     "start_time": "2025-07-21T14:11:51.322001",
     "status": "completed"
    },
    "tags": []
   },
   "outputs": [],
   "source": [
    "from sklearn.metrics import roc_auc_score, f1_score, classification_report"
   ]
  },
  {
   "cell_type": "code",
   "execution_count": 3,
   "id": "97e87354",
   "metadata": {
    "_cell_guid": "b1076dfc-b9ad-4769-8c92-a6c4dae69d19",
    "_uuid": "8f2839f25d086af736a60e9eeb907d3b93b6e0e5",
    "execution": {
     "iopub.execute_input": "2025-07-21T14:11:51.358662Z",
     "iopub.status.busy": "2025-07-21T14:11:51.358322Z",
     "iopub.status.idle": "2025-07-21T14:11:51.365996Z",
     "shell.execute_reply": "2025-07-21T14:11:51.364696Z"
    },
    "papermill": {
     "duration": 0.019666,
     "end_time": "2025-07-21T14:11:51.368009",
     "exception": false,
     "start_time": "2025-07-21T14:11:51.348343",
     "status": "completed"
    },
    "tags": []
   },
   "outputs": [
    {
     "name": "stdout",
     "output_type": "stream",
     "text": [
      "/kaggle/input/ieee-fraud-detection/sample_submission.csv\n",
      "/kaggle/input/ieee-fraud-detection/test_identity.csv\n",
      "/kaggle/input/ieee-fraud-detection/train_identity.csv\n",
      "/kaggle/input/ieee-fraud-detection/test_transaction.csv\n",
      "/kaggle/input/ieee-fraud-detection/train_transaction.csv\n"
     ]
    }
   ],
   "source": [
    "# This Python 3 environment comes with many helpful analytics libraries installed\n",
    "# It is defined by the kaggle/python Docker image: https://github.com/kaggle/docker-python\n",
    "# For example, here's several helpful packages to load\n",
    "\n",
    "import numpy as np # linear algebra\n",
    "import pandas as pd # data processing, CSV file I/O (e.g. pd.read_csv)\n",
    "\n",
    "# Input data files are available in the read-only \"../input/\" directory\n",
    "# For example, running this (by clicking run or pressing Shift+Enter) will list all files under the input directory\n",
    "\n",
    "import os\n",
    "for dirname, _, filenames in os.walk('/kaggle/input'):\n",
    "    for filename in filenames:\n",
    "        print(os.path.join(dirname, filename))\n",
    "\n",
    "# You can write up to 20GB to the current directory (/kaggle/working/) that gets preserved as output when you create a version using \"Save & Run All\" \n",
    "# You can also write temporary files to /kaggle/temp/, but they won't be saved outside of the current session"
   ]
  },
  {
   "cell_type": "code",
   "execution_count": 4,
   "id": "00565d2f",
   "metadata": {
    "execution": {
     "iopub.execute_input": "2025-07-21T14:11:51.388618Z",
     "iopub.status.busy": "2025-07-21T14:11:51.388229Z",
     "iopub.status.idle": "2025-07-21T14:12:22.867705Z",
     "shell.execute_reply": "2025-07-21T14:12:22.866581Z"
    },
    "papermill": {
     "duration": 31.491305,
     "end_time": "2025-07-21T14:12:22.869639",
     "exception": false,
     "start_time": "2025-07-21T14:11:51.378334",
     "status": "completed"
    },
    "tags": []
   },
   "outputs": [],
   "source": [
    "train_transaction = pd.read_csv('/kaggle/input/ieee-fraud-detection/train_transaction.csv')\n",
    "train_identity = pd.read_csv('/kaggle/input/ieee-fraud-detection/train_identity.csv')\n"
   ]
  },
  {
   "cell_type": "code",
   "execution_count": 5,
   "id": "3106749a",
   "metadata": {
    "execution": {
     "iopub.execute_input": "2025-07-21T14:12:22.888088Z",
     "iopub.status.busy": "2025-07-21T14:12:22.887736Z",
     "iopub.status.idle": "2025-07-21T14:12:22.941302Z",
     "shell.execute_reply": "2025-07-21T14:12:22.939943Z"
    },
    "papermill": {
     "duration": 0.064902,
     "end_time": "2025-07-21T14:12:22.943043",
     "exception": false,
     "start_time": "2025-07-21T14:12:22.878141",
     "status": "completed"
    },
    "tags": []
   },
   "outputs": [
    {
     "name": "stderr",
     "output_type": "stream",
     "text": [
      "/usr/local/lib/python3.11/dist-packages/pandas/io/formats/format.py:1458: RuntimeWarning: invalid value encountered in greater\n",
      "  has_large_values = (abs_vals > 1e6).any()\n",
      "/usr/local/lib/python3.11/dist-packages/pandas/io/formats/format.py:1459: RuntimeWarning: invalid value encountered in less\n",
      "  has_small_values = ((abs_vals < 10 ** (-self.digits)) & (abs_vals > 0)).any()\n",
      "/usr/local/lib/python3.11/dist-packages/pandas/io/formats/format.py:1459: RuntimeWarning: invalid value encountered in greater\n",
      "  has_small_values = ((abs_vals < 10 ** (-self.digits)) & (abs_vals > 0)).any()\n",
      "/usr/local/lib/python3.11/dist-packages/pandas/io/formats/format.py:1458: RuntimeWarning: invalid value encountered in greater\n",
      "  has_large_values = (abs_vals > 1e6).any()\n",
      "/usr/local/lib/python3.11/dist-packages/pandas/io/formats/format.py:1459: RuntimeWarning: invalid value encountered in less\n",
      "  has_small_values = ((abs_vals < 10 ** (-self.digits)) & (abs_vals > 0)).any()\n",
      "/usr/local/lib/python3.11/dist-packages/pandas/io/formats/format.py:1459: RuntimeWarning: invalid value encountered in greater\n",
      "  has_small_values = ((abs_vals < 10 ** (-self.digits)) & (abs_vals > 0)).any()\n"
     ]
    },
    {
     "data": {
      "text/html": [
       "<div>\n",
       "<style scoped>\n",
       "    .dataframe tbody tr th:only-of-type {\n",
       "        vertical-align: middle;\n",
       "    }\n",
       "\n",
       "    .dataframe tbody tr th {\n",
       "        vertical-align: top;\n",
       "    }\n",
       "\n",
       "    .dataframe thead th {\n",
       "        text-align: right;\n",
       "    }\n",
       "</style>\n",
       "<table border=\"1\" class=\"dataframe\">\n",
       "  <thead>\n",
       "    <tr style=\"text-align: right;\">\n",
       "      <th></th>\n",
       "      <th>TransactionID</th>\n",
       "      <th>isFraud</th>\n",
       "      <th>TransactionDT</th>\n",
       "      <th>TransactionAmt</th>\n",
       "      <th>ProductCD</th>\n",
       "      <th>card1</th>\n",
       "      <th>card2</th>\n",
       "      <th>card3</th>\n",
       "      <th>card4</th>\n",
       "      <th>card5</th>\n",
       "      <th>...</th>\n",
       "      <th>V330</th>\n",
       "      <th>V331</th>\n",
       "      <th>V332</th>\n",
       "      <th>V333</th>\n",
       "      <th>V334</th>\n",
       "      <th>V335</th>\n",
       "      <th>V336</th>\n",
       "      <th>V337</th>\n",
       "      <th>V338</th>\n",
       "      <th>V339</th>\n",
       "    </tr>\n",
       "  </thead>\n",
       "  <tbody>\n",
       "    <tr>\n",
       "      <th>0</th>\n",
       "      <td>2987000</td>\n",
       "      <td>0</td>\n",
       "      <td>86400</td>\n",
       "      <td>68.5</td>\n",
       "      <td>W</td>\n",
       "      <td>13926</td>\n",
       "      <td>NaN</td>\n",
       "      <td>150.0</td>\n",
       "      <td>discover</td>\n",
       "      <td>142.0</td>\n",
       "      <td>...</td>\n",
       "      <td>NaN</td>\n",
       "      <td>NaN</td>\n",
       "      <td>NaN</td>\n",
       "      <td>NaN</td>\n",
       "      <td>NaN</td>\n",
       "      <td>NaN</td>\n",
       "      <td>NaN</td>\n",
       "      <td>NaN</td>\n",
       "      <td>NaN</td>\n",
       "      <td>NaN</td>\n",
       "    </tr>\n",
       "    <tr>\n",
       "      <th>1</th>\n",
       "      <td>2987001</td>\n",
       "      <td>0</td>\n",
       "      <td>86401</td>\n",
       "      <td>29.0</td>\n",
       "      <td>W</td>\n",
       "      <td>2755</td>\n",
       "      <td>404.0</td>\n",
       "      <td>150.0</td>\n",
       "      <td>mastercard</td>\n",
       "      <td>102.0</td>\n",
       "      <td>...</td>\n",
       "      <td>NaN</td>\n",
       "      <td>NaN</td>\n",
       "      <td>NaN</td>\n",
       "      <td>NaN</td>\n",
       "      <td>NaN</td>\n",
       "      <td>NaN</td>\n",
       "      <td>NaN</td>\n",
       "      <td>NaN</td>\n",
       "      <td>NaN</td>\n",
       "      <td>NaN</td>\n",
       "    </tr>\n",
       "    <tr>\n",
       "      <th>2</th>\n",
       "      <td>2987002</td>\n",
       "      <td>0</td>\n",
       "      <td>86469</td>\n",
       "      <td>59.0</td>\n",
       "      <td>W</td>\n",
       "      <td>4663</td>\n",
       "      <td>490.0</td>\n",
       "      <td>150.0</td>\n",
       "      <td>visa</td>\n",
       "      <td>166.0</td>\n",
       "      <td>...</td>\n",
       "      <td>NaN</td>\n",
       "      <td>NaN</td>\n",
       "      <td>NaN</td>\n",
       "      <td>NaN</td>\n",
       "      <td>NaN</td>\n",
       "      <td>NaN</td>\n",
       "      <td>NaN</td>\n",
       "      <td>NaN</td>\n",
       "      <td>NaN</td>\n",
       "      <td>NaN</td>\n",
       "    </tr>\n",
       "    <tr>\n",
       "      <th>3</th>\n",
       "      <td>2987003</td>\n",
       "      <td>0</td>\n",
       "      <td>86499</td>\n",
       "      <td>50.0</td>\n",
       "      <td>W</td>\n",
       "      <td>18132</td>\n",
       "      <td>567.0</td>\n",
       "      <td>150.0</td>\n",
       "      <td>mastercard</td>\n",
       "      <td>117.0</td>\n",
       "      <td>...</td>\n",
       "      <td>NaN</td>\n",
       "      <td>NaN</td>\n",
       "      <td>NaN</td>\n",
       "      <td>NaN</td>\n",
       "      <td>NaN</td>\n",
       "      <td>NaN</td>\n",
       "      <td>NaN</td>\n",
       "      <td>NaN</td>\n",
       "      <td>NaN</td>\n",
       "      <td>NaN</td>\n",
       "    </tr>\n",
       "    <tr>\n",
       "      <th>4</th>\n",
       "      <td>2987004</td>\n",
       "      <td>0</td>\n",
       "      <td>86506</td>\n",
       "      <td>50.0</td>\n",
       "      <td>H</td>\n",
       "      <td>4497</td>\n",
       "      <td>514.0</td>\n",
       "      <td>150.0</td>\n",
       "      <td>mastercard</td>\n",
       "      <td>102.0</td>\n",
       "      <td>...</td>\n",
       "      <td>0.0</td>\n",
       "      <td>0.0</td>\n",
       "      <td>0.0</td>\n",
       "      <td>0.0</td>\n",
       "      <td>0.0</td>\n",
       "      <td>0.0</td>\n",
       "      <td>0.0</td>\n",
       "      <td>0.0</td>\n",
       "      <td>0.0</td>\n",
       "      <td>0.0</td>\n",
       "    </tr>\n",
       "  </tbody>\n",
       "</table>\n",
       "<p>5 rows × 394 columns</p>\n",
       "</div>"
      ],
      "text/plain": [
       "   TransactionID  isFraud  TransactionDT  TransactionAmt ProductCD  card1  \\\n",
       "0        2987000        0          86400            68.5         W  13926   \n",
       "1        2987001        0          86401            29.0         W   2755   \n",
       "2        2987002        0          86469            59.0         W   4663   \n",
       "3        2987003        0          86499            50.0         W  18132   \n",
       "4        2987004        0          86506            50.0         H   4497   \n",
       "\n",
       "   card2  card3       card4  card5  ... V330  V331  V332  V333  V334 V335  \\\n",
       "0    NaN  150.0    discover  142.0  ...  NaN   NaN   NaN   NaN   NaN  NaN   \n",
       "1  404.0  150.0  mastercard  102.0  ...  NaN   NaN   NaN   NaN   NaN  NaN   \n",
       "2  490.0  150.0        visa  166.0  ...  NaN   NaN   NaN   NaN   NaN  NaN   \n",
       "3  567.0  150.0  mastercard  117.0  ...  NaN   NaN   NaN   NaN   NaN  NaN   \n",
       "4  514.0  150.0  mastercard  102.0  ...  0.0   0.0   0.0   0.0   0.0  0.0   \n",
       "\n",
       "  V336  V337  V338  V339  \n",
       "0  NaN   NaN   NaN   NaN  \n",
       "1  NaN   NaN   NaN   NaN  \n",
       "2  NaN   NaN   NaN   NaN  \n",
       "3  NaN   NaN   NaN   NaN  \n",
       "4  0.0   0.0   0.0   0.0  \n",
       "\n",
       "[5 rows x 394 columns]"
      ]
     },
     "execution_count": 5,
     "metadata": {},
     "output_type": "execute_result"
    }
   ],
   "source": [
    "train_transaction.head()"
   ]
  },
  {
   "cell_type": "code",
   "execution_count": 6,
   "id": "c4997c9a",
   "metadata": {
    "execution": {
     "iopub.execute_input": "2025-07-21T14:12:22.961956Z",
     "iopub.status.busy": "2025-07-21T14:12:22.961648Z",
     "iopub.status.idle": "2025-07-21T14:12:22.985249Z",
     "shell.execute_reply": "2025-07-21T14:12:22.984206Z"
    },
    "papermill": {
     "duration": 0.034587,
     "end_time": "2025-07-21T14:12:22.987024",
     "exception": false,
     "start_time": "2025-07-21T14:12:22.952437",
     "status": "completed"
    },
    "tags": []
   },
   "outputs": [
    {
     "name": "stderr",
     "output_type": "stream",
     "text": [
      "/usr/local/lib/python3.11/dist-packages/pandas/io/formats/format.py:1458: RuntimeWarning: invalid value encountered in greater\n",
      "  has_large_values = (abs_vals > 1e6).any()\n",
      "/usr/local/lib/python3.11/dist-packages/pandas/io/formats/format.py:1459: RuntimeWarning: invalid value encountered in less\n",
      "  has_small_values = ((abs_vals < 10 ** (-self.digits)) & (abs_vals > 0)).any()\n",
      "/usr/local/lib/python3.11/dist-packages/pandas/io/formats/format.py:1459: RuntimeWarning: invalid value encountered in greater\n",
      "  has_small_values = ((abs_vals < 10 ** (-self.digits)) & (abs_vals > 0)).any()\n",
      "/usr/local/lib/python3.11/dist-packages/pandas/io/formats/format.py:1458: RuntimeWarning: invalid value encountered in greater\n",
      "  has_large_values = (abs_vals > 1e6).any()\n",
      "/usr/local/lib/python3.11/dist-packages/pandas/io/formats/format.py:1459: RuntimeWarning: invalid value encountered in less\n",
      "  has_small_values = ((abs_vals < 10 ** (-self.digits)) & (abs_vals > 0)).any()\n",
      "/usr/local/lib/python3.11/dist-packages/pandas/io/formats/format.py:1459: RuntimeWarning: invalid value encountered in greater\n",
      "  has_small_values = ((abs_vals < 10 ** (-self.digits)) & (abs_vals > 0)).any()\n"
     ]
    },
    {
     "data": {
      "text/html": [
       "<div>\n",
       "<style scoped>\n",
       "    .dataframe tbody tr th:only-of-type {\n",
       "        vertical-align: middle;\n",
       "    }\n",
       "\n",
       "    .dataframe tbody tr th {\n",
       "        vertical-align: top;\n",
       "    }\n",
       "\n",
       "    .dataframe thead th {\n",
       "        text-align: right;\n",
       "    }\n",
       "</style>\n",
       "<table border=\"1\" class=\"dataframe\">\n",
       "  <thead>\n",
       "    <tr style=\"text-align: right;\">\n",
       "      <th></th>\n",
       "      <th>TransactionID</th>\n",
       "      <th>id_01</th>\n",
       "      <th>id_02</th>\n",
       "      <th>id_03</th>\n",
       "      <th>id_04</th>\n",
       "      <th>id_05</th>\n",
       "      <th>id_06</th>\n",
       "      <th>id_07</th>\n",
       "      <th>id_08</th>\n",
       "      <th>id_09</th>\n",
       "      <th>...</th>\n",
       "      <th>id_31</th>\n",
       "      <th>id_32</th>\n",
       "      <th>id_33</th>\n",
       "      <th>id_34</th>\n",
       "      <th>id_35</th>\n",
       "      <th>id_36</th>\n",
       "      <th>id_37</th>\n",
       "      <th>id_38</th>\n",
       "      <th>DeviceType</th>\n",
       "      <th>DeviceInfo</th>\n",
       "    </tr>\n",
       "  </thead>\n",
       "  <tbody>\n",
       "    <tr>\n",
       "      <th>0</th>\n",
       "      <td>2987004</td>\n",
       "      <td>0.0</td>\n",
       "      <td>70787.0</td>\n",
       "      <td>NaN</td>\n",
       "      <td>NaN</td>\n",
       "      <td>NaN</td>\n",
       "      <td>NaN</td>\n",
       "      <td>NaN</td>\n",
       "      <td>NaN</td>\n",
       "      <td>NaN</td>\n",
       "      <td>...</td>\n",
       "      <td>samsung browser 6.2</td>\n",
       "      <td>32.0</td>\n",
       "      <td>2220x1080</td>\n",
       "      <td>match_status:2</td>\n",
       "      <td>T</td>\n",
       "      <td>F</td>\n",
       "      <td>T</td>\n",
       "      <td>T</td>\n",
       "      <td>mobile</td>\n",
       "      <td>SAMSUNG SM-G892A Build/NRD90M</td>\n",
       "    </tr>\n",
       "    <tr>\n",
       "      <th>1</th>\n",
       "      <td>2987008</td>\n",
       "      <td>-5.0</td>\n",
       "      <td>98945.0</td>\n",
       "      <td>NaN</td>\n",
       "      <td>NaN</td>\n",
       "      <td>0.0</td>\n",
       "      <td>-5.0</td>\n",
       "      <td>NaN</td>\n",
       "      <td>NaN</td>\n",
       "      <td>NaN</td>\n",
       "      <td>...</td>\n",
       "      <td>mobile safari 11.0</td>\n",
       "      <td>32.0</td>\n",
       "      <td>1334x750</td>\n",
       "      <td>match_status:1</td>\n",
       "      <td>T</td>\n",
       "      <td>F</td>\n",
       "      <td>F</td>\n",
       "      <td>T</td>\n",
       "      <td>mobile</td>\n",
       "      <td>iOS Device</td>\n",
       "    </tr>\n",
       "    <tr>\n",
       "      <th>2</th>\n",
       "      <td>2987010</td>\n",
       "      <td>-5.0</td>\n",
       "      <td>191631.0</td>\n",
       "      <td>0.0</td>\n",
       "      <td>0.0</td>\n",
       "      <td>0.0</td>\n",
       "      <td>0.0</td>\n",
       "      <td>NaN</td>\n",
       "      <td>NaN</td>\n",
       "      <td>0.0</td>\n",
       "      <td>...</td>\n",
       "      <td>chrome 62.0</td>\n",
       "      <td>NaN</td>\n",
       "      <td>NaN</td>\n",
       "      <td>NaN</td>\n",
       "      <td>F</td>\n",
       "      <td>F</td>\n",
       "      <td>T</td>\n",
       "      <td>T</td>\n",
       "      <td>desktop</td>\n",
       "      <td>Windows</td>\n",
       "    </tr>\n",
       "    <tr>\n",
       "      <th>3</th>\n",
       "      <td>2987011</td>\n",
       "      <td>-5.0</td>\n",
       "      <td>221832.0</td>\n",
       "      <td>NaN</td>\n",
       "      <td>NaN</td>\n",
       "      <td>0.0</td>\n",
       "      <td>-6.0</td>\n",
       "      <td>NaN</td>\n",
       "      <td>NaN</td>\n",
       "      <td>NaN</td>\n",
       "      <td>...</td>\n",
       "      <td>chrome 62.0</td>\n",
       "      <td>NaN</td>\n",
       "      <td>NaN</td>\n",
       "      <td>NaN</td>\n",
       "      <td>F</td>\n",
       "      <td>F</td>\n",
       "      <td>T</td>\n",
       "      <td>T</td>\n",
       "      <td>desktop</td>\n",
       "      <td>NaN</td>\n",
       "    </tr>\n",
       "    <tr>\n",
       "      <th>4</th>\n",
       "      <td>2987016</td>\n",
       "      <td>0.0</td>\n",
       "      <td>7460.0</td>\n",
       "      <td>0.0</td>\n",
       "      <td>0.0</td>\n",
       "      <td>1.0</td>\n",
       "      <td>0.0</td>\n",
       "      <td>NaN</td>\n",
       "      <td>NaN</td>\n",
       "      <td>0.0</td>\n",
       "      <td>...</td>\n",
       "      <td>chrome 62.0</td>\n",
       "      <td>24.0</td>\n",
       "      <td>1280x800</td>\n",
       "      <td>match_status:2</td>\n",
       "      <td>T</td>\n",
       "      <td>F</td>\n",
       "      <td>T</td>\n",
       "      <td>T</td>\n",
       "      <td>desktop</td>\n",
       "      <td>MacOS</td>\n",
       "    </tr>\n",
       "  </tbody>\n",
       "</table>\n",
       "<p>5 rows × 41 columns</p>\n",
       "</div>"
      ],
      "text/plain": [
       "   TransactionID  id_01     id_02  id_03  id_04  id_05  id_06  id_07  id_08  \\\n",
       "0        2987004    0.0   70787.0    NaN    NaN    NaN    NaN    NaN    NaN   \n",
       "1        2987008   -5.0   98945.0    NaN    NaN    0.0   -5.0    NaN    NaN   \n",
       "2        2987010   -5.0  191631.0    0.0    0.0    0.0    0.0    NaN    NaN   \n",
       "3        2987011   -5.0  221832.0    NaN    NaN    0.0   -6.0    NaN    NaN   \n",
       "4        2987016    0.0    7460.0    0.0    0.0    1.0    0.0    NaN    NaN   \n",
       "\n",
       "   id_09  ...                id_31  id_32      id_33           id_34  id_35  \\\n",
       "0    NaN  ...  samsung browser 6.2   32.0  2220x1080  match_status:2      T   \n",
       "1    NaN  ...   mobile safari 11.0   32.0   1334x750  match_status:1      T   \n",
       "2    0.0  ...          chrome 62.0    NaN        NaN             NaN      F   \n",
       "3    NaN  ...          chrome 62.0    NaN        NaN             NaN      F   \n",
       "4    0.0  ...          chrome 62.0   24.0   1280x800  match_status:2      T   \n",
       "\n",
       "  id_36 id_37  id_38  DeviceType                     DeviceInfo  \n",
       "0     F     T      T      mobile  SAMSUNG SM-G892A Build/NRD90M  \n",
       "1     F     F      T      mobile                     iOS Device  \n",
       "2     F     T      T     desktop                        Windows  \n",
       "3     F     T      T     desktop                            NaN  \n",
       "4     F     T      T     desktop                          MacOS  \n",
       "\n",
       "[5 rows x 41 columns]"
      ]
     },
     "execution_count": 6,
     "metadata": {},
     "output_type": "execute_result"
    }
   ],
   "source": [
    "train_identity.head()"
   ]
  },
  {
   "cell_type": "code",
   "execution_count": 7,
   "id": "2a427a79",
   "metadata": {
    "execution": {
     "iopub.execute_input": "2025-07-21T14:12:23.006851Z",
     "iopub.status.busy": "2025-07-21T14:12:23.006473Z",
     "iopub.status.idle": "2025-07-21T14:12:49.447180Z",
     "shell.execute_reply": "2025-07-21T14:12:49.445672Z"
    },
    "papermill": {
     "duration": 26.453276,
     "end_time": "2025-07-21T14:12:49.449482",
     "exception": false,
     "start_time": "2025-07-21T14:12:22.996206",
     "status": "completed"
    },
    "tags": []
   },
   "outputs": [
    {
     "name": "stderr",
     "output_type": "stream",
     "text": [
      "/usr/local/lib/python3.11/dist-packages/pandas/io/formats/format.py:1458: RuntimeWarning: invalid value encountered in greater\n",
      "  has_large_values = (abs_vals > 1e6).any()\n",
      "/usr/local/lib/python3.11/dist-packages/pandas/io/formats/format.py:1459: RuntimeWarning: invalid value encountered in less\n",
      "  has_small_values = ((abs_vals < 10 ** (-self.digits)) & (abs_vals > 0)).any()\n",
      "/usr/local/lib/python3.11/dist-packages/pandas/io/formats/format.py:1459: RuntimeWarning: invalid value encountered in greater\n",
      "  has_small_values = ((abs_vals < 10 ** (-self.digits)) & (abs_vals > 0)).any()\n",
      "/usr/local/lib/python3.11/dist-packages/pandas/io/formats/format.py:1458: RuntimeWarning: invalid value encountered in greater\n",
      "  has_large_values = (abs_vals > 1e6).any()\n",
      "/usr/local/lib/python3.11/dist-packages/pandas/io/formats/format.py:1459: RuntimeWarning: invalid value encountered in less\n",
      "  has_small_values = ((abs_vals < 10 ** (-self.digits)) & (abs_vals > 0)).any()\n",
      "/usr/local/lib/python3.11/dist-packages/pandas/io/formats/format.py:1459: RuntimeWarning: invalid value encountered in greater\n",
      "  has_small_values = ((abs_vals < 10 ** (-self.digits)) & (abs_vals > 0)).any()\n"
     ]
    },
    {
     "data": {
      "text/plain": [
       "(   TransactionID  TransactionDT  TransactionAmt ProductCD  card1  card2  \\\n",
       " 0        3663549       18403224           31.95         W  10409  111.0   \n",
       " 1        3663550       18403263           49.00         W   4272  111.0   \n",
       " 2        3663551       18403310          171.00         W   4476  574.0   \n",
       " 3        3663552       18403310          284.95         W  10989  360.0   \n",
       " 4        3663553       18403317           67.95         W  18018  452.0   \n",
       " \n",
       "    card3       card4  card5  card6  ...  V330  V331  V332  V333 V334 V335  \\\n",
       " 0  150.0        visa  226.0  debit  ...   NaN   NaN   NaN   NaN  NaN  NaN   \n",
       " 1  150.0        visa  226.0  debit  ...   NaN   NaN   NaN   NaN  NaN  NaN   \n",
       " 2  150.0        visa  226.0  debit  ...   NaN   NaN   NaN   NaN  NaN  NaN   \n",
       " 3  150.0        visa  166.0  debit  ...   NaN   NaN   NaN   NaN  NaN  NaN   \n",
       " 4  150.0  mastercard  117.0  debit  ...   NaN   NaN   NaN   NaN  NaN  NaN   \n",
       " \n",
       "    V336  V337  V338  V339  \n",
       " 0   NaN   NaN   NaN   NaN  \n",
       " 1   NaN   NaN   NaN   NaN  \n",
       " 2   NaN   NaN   NaN   NaN  \n",
       " 3   NaN   NaN   NaN   NaN  \n",
       " 4   NaN   NaN   NaN   NaN  \n",
       " \n",
       " [5 rows x 393 columns],\n",
       "    TransactionID  id-01     id-02  id-03  id-04  id-05  id-06  id-07  id-08  \\\n",
       " 0        3663586  -45.0  280290.0    NaN    NaN    0.0    0.0    NaN    NaN   \n",
       " 1        3663588    0.0    3579.0    0.0    0.0    0.0    0.0    NaN    NaN   \n",
       " 2        3663597   -5.0  185210.0    NaN    NaN    1.0    0.0    NaN    NaN   \n",
       " 3        3663601  -45.0  252944.0    0.0    0.0    0.0    0.0    NaN    NaN   \n",
       " 4        3663602  -95.0  328680.0    NaN    NaN    7.0  -33.0    NaN    NaN   \n",
       " \n",
       "    id-09  ...                    id-31  id-32     id-33           id-34  \\\n",
       " 0    NaN  ...  chrome 67.0 for android    NaN       NaN             NaN   \n",
       " 1    0.0  ...  chrome 67.0 for android   24.0  1280x720  match_status:2   \n",
       " 2    NaN  ...       ie 11.0 for tablet    NaN       NaN             NaN   \n",
       " 3    0.0  ...  chrome 67.0 for android    NaN       NaN             NaN   \n",
       " 4    NaN  ...  chrome 67.0 for android    NaN       NaN             NaN   \n",
       " \n",
       "    id-35 id-36 id-37  id-38  DeviceType                   DeviceInfo  \n",
       " 0      F     F     T      F      mobile  MYA-L13 Build/HUAWEIMYA-L13  \n",
       " 1      T     F     T      T      mobile         LGLS676 Build/MXB48T  \n",
       " 2      F     T     T      F     desktop                  Trident/7.0  \n",
       " 3      F     F     T      F      mobile  MYA-L13 Build/HUAWEIMYA-L13  \n",
       " 4      F     F     T      F      mobile         SM-G9650 Build/R16NW  \n",
       " \n",
       " [5 rows x 41 columns])"
      ]
     },
     "execution_count": 7,
     "metadata": {},
     "output_type": "execute_result"
    }
   ],
   "source": [
    "# تحديد المسار\n",
    "folder = '/kaggle/input/ieee-fraud-detection'\n",
    "\n",
    "# تحميل ملفات test\n",
    "test_trans = pd.read_csv(f'{folder}/test_transaction.csv')\n",
    "test_id = pd.read_csv(f'{folder}/test_identity.csv')\n",
    "\n",
    "# عرض شكل البيانات\n",
    "test_trans.head(), test_id.head()"
   ]
  },
  {
   "cell_type": "code",
   "execution_count": 8,
   "id": "8354670c",
   "metadata": {
    "execution": {
     "iopub.execute_input": "2025-07-21T14:12:49.470989Z",
     "iopub.status.busy": "2025-07-21T14:12:49.470612Z",
     "iopub.status.idle": "2025-07-21T14:12:50.824262Z",
     "shell.execute_reply": "2025-07-21T14:12:50.822900Z"
    },
    "papermill": {
     "duration": 1.366706,
     "end_time": "2025-07-21T14:12:50.826290",
     "exception": false,
     "start_time": "2025-07-21T14:12:49.459584",
     "status": "completed"
    },
    "tags": []
   },
   "outputs": [
    {
     "name": "stdout",
     "output_type": "stream",
     "text": [
      "Transaction shape: (506691, 393)\n",
      "Identity shape: (141907, 41)\n",
      "\n",
      "Missing values in test_transaction:\n",
      "dist2    0.928090\n",
      "D7       0.881322\n",
      "D12      0.863321\n",
      "D8       0.853287\n",
      "D9       0.853287\n",
      "V138     0.850432\n",
      "V158     0.850432\n",
      "V157     0.850432\n",
      "V156     0.850432\n",
      "V155     0.850432\n",
      "dtype: float64\n",
      "\n",
      "Missing values in test_identity:\n",
      "id-24    0.966598\n",
      "id-25    0.964491\n",
      "id-26    0.964434\n",
      "id-21    0.964350\n",
      "id-07    0.964350\n",
      "id-08    0.964350\n",
      "id-23    0.964329\n",
      "id-22    0.964329\n",
      "id-27    0.964329\n",
      "id-18    0.641491\n",
      "dtype: float64\n"
     ]
    }
   ],
   "source": [
    "# نظرة سريعة على حجم البيانات\n",
    "print(\"Transaction shape:\", test_trans.shape)\n",
    "print(\"Identity shape:\", test_id.shape)\n",
    "\n",
    "# نسبة القيم المفقودة في test_transaction\n",
    "missing_trans = test_trans.isnull().mean().sort_values(ascending=False)\n",
    "print(\"\\nMissing values in test_transaction:\")\n",
    "print(missing_trans[missing_trans > 0][:10])  # أول 10 أعمدة فيها missing\n",
    "\n",
    "# نسبة القيم المفقودة في test_identity\n",
    "missing_id = test_id.isnull().mean().sort_values(ascending=False)\n",
    "print(\"\\nMissing values in test_identity:\")\n",
    "print(missing_id[missing_id > 0][:10])  # أول 10 أعمدة فيها missing"
   ]
  },
  {
   "cell_type": "code",
   "execution_count": 9,
   "id": "30b3d757",
   "metadata": {
    "execution": {
     "iopub.execute_input": "2025-07-21T14:12:50.848398Z",
     "iopub.status.busy": "2025-07-21T14:12:50.848035Z",
     "iopub.status.idle": "2025-07-21T14:12:52.719465Z",
     "shell.execute_reply": "2025-07-21T14:12:52.718170Z"
    },
    "papermill": {
     "duration": 1.884988,
     "end_time": "2025-07-21T14:12:52.721453",
     "exception": false,
     "start_time": "2025-07-21T14:12:50.836465",
     "status": "completed"
    },
    "tags": []
   },
   "outputs": [
    {
     "name": "stdout",
     "output_type": "stream",
     "text": [
      "Remaining columns in test_transaction: 392\n",
      "Remaining columns in test_identity: 32\n"
     ]
    }
   ],
   "source": [
    "# حذف الأعمدة اللي فيها missing values بنسبة أكتر من 90%\n",
    "missing_ratio_trans = test_trans.isnull().mean()\n",
    "missing_ratio_id = test_id.isnull().mean()\n",
    "\n",
    "cols_to_drop_trans = missing_ratio_trans[missing_ratio_trans > 0.9].index\n",
    "cols_to_drop_id = missing_ratio_id[missing_ratio_id > 0.9].index\n",
    "\n",
    "test_trans = test_trans.drop(columns=cols_to_drop_trans)\n",
    "test_id = test_id.drop(columns=cols_to_drop_id)\n",
    "\n",
    "print(\"Remaining columns in test_transaction:\", len(test_trans.columns))\n",
    "print(\"Remaining columns in test_identity:\", len(test_id.columns))"
   ]
  },
  {
   "cell_type": "code",
   "execution_count": 10,
   "id": "476dcdc7",
   "metadata": {
    "execution": {
     "iopub.execute_input": "2025-07-21T14:12:52.742837Z",
     "iopub.status.busy": "2025-07-21T14:12:52.742518Z",
     "iopub.status.idle": "2025-07-21T14:12:57.397804Z",
     "shell.execute_reply": "2025-07-21T14:12:57.396505Z"
    },
    "papermill": {
     "duration": 4.668352,
     "end_time": "2025-07-21T14:12:57.399677",
     "exception": false,
     "start_time": "2025-07-21T14:12:52.731325",
     "status": "completed"
    },
    "tags": []
   },
   "outputs": [
    {
     "name": "stdout",
     "output_type": "stream",
     "text": [
      "✅ Missing values filled successfully.\n"
     ]
    }
   ],
   "source": [
    "# Fill NaNs in test_transaction\n",
    "for col in test_trans.columns:\n",
    "    if test_trans[col].dtype == 'object':\n",
    "        test_trans[col] = test_trans[col].fillna('missing')\n",
    "    else:\n",
    "        test_trans[col] = test_trans[col].fillna(test_trans[col].mean())\n",
    "\n",
    "# Fill NaNs in test_identity\n",
    "for col in test_id.columns:\n",
    "    if test_id[col].dtype == 'object':\n",
    "        test_id[col] = test_id[col].fillna('missing')\n",
    "    else:\n",
    "        test_id[col] = test_id[col].fillna(test_id[col].mean())\n",
    "\n",
    "print(\"✅ Missing values filled successfully.\")"
   ]
  },
  {
   "cell_type": "code",
   "execution_count": 11,
   "id": "c5b5b208",
   "metadata": {
    "execution": {
     "iopub.execute_input": "2025-07-21T14:12:57.420272Z",
     "iopub.status.busy": "2025-07-21T14:12:57.419800Z",
     "iopub.status.idle": "2025-07-21T14:12:58.932636Z",
     "shell.execute_reply": "2025-07-21T14:12:58.931181Z"
    },
    "papermill": {
     "duration": 1.525003,
     "end_time": "2025-07-21T14:12:58.934265",
     "exception": false,
     "start_time": "2025-07-21T14:12:57.409262",
     "status": "completed"
    },
    "tags": []
   },
   "outputs": [
    {
     "name": "stdout",
     "output_type": "stream",
     "text": [
      "TransactionID        0\n",
      "isFraud              0\n",
      "TransactionDT        0\n",
      "TransactionAmt       0\n",
      "ProductCD            0\n",
      "card1                0\n",
      "card2             8933\n",
      "card3             1565\n",
      "card4             1577\n",
      "card5             4259\n",
      "dtype: int64\n",
      "% of missing data =  41.073431200111266\n"
     ]
    }
   ],
   "source": [
    "# first, we will explore the data for el training\n",
    "# missing values\n",
    "missing_values_count = train_transaction.isnull().sum()\n",
    "print (missing_values_count[0:10])\n",
    "total_cells = np.product(train_transaction.shape)\n",
    "total_missing = missing_values_count.sum()\n",
    "print (\"% of missing data = \",(total_missing/total_cells) * 100)"
   ]
  },
  {
   "cell_type": "code",
   "execution_count": 12,
   "id": "6e2f11be",
   "metadata": {
    "execution": {
     "iopub.execute_input": "2025-07-21T14:12:58.954692Z",
     "iopub.status.busy": "2025-07-21T14:12:58.954372Z",
     "iopub.status.idle": "2025-07-21T14:13:00.099694Z",
     "shell.execute_reply": "2025-07-21T14:13:00.098623Z"
    },
    "papermill": {
     "duration": 1.15821,
     "end_time": "2025-07-21T14:13:00.101883",
     "exception": false,
     "start_time": "2025-07-21T14:12:58.943673",
     "status": "completed"
    },
    "tags": []
   },
   "outputs": [],
   "source": [
    "train = train_transaction.merge(train_identity, on='TransactionID', how='left')"
   ]
  },
  {
   "cell_type": "code",
   "execution_count": 13,
   "id": "21cbe6e0",
   "metadata": {
    "execution": {
     "iopub.execute_input": "2025-07-21T14:13:00.124001Z",
     "iopub.status.busy": "2025-07-21T14:13:00.123651Z",
     "iopub.status.idle": "2025-07-21T14:13:03.583416Z",
     "shell.execute_reply": "2025-07-21T14:13:03.582448Z"
    },
    "papermill": {
     "duration": 3.472573,
     "end_time": "2025-07-21T14:13:03.585258",
     "exception": false,
     "start_time": "2025-07-21T14:13:00.112685",
     "status": "completed"
    },
    "tags": []
   },
   "outputs": [],
   "source": [
    "test = test_trans.merge(test_id, on='TransactionID', how='left')"
   ]
  },
  {
   "cell_type": "code",
   "execution_count": 14,
   "id": "1f039cd3",
   "metadata": {
    "execution": {
     "iopub.execute_input": "2025-07-21T14:13:03.605167Z",
     "iopub.status.busy": "2025-07-21T14:13:03.604179Z",
     "iopub.status.idle": "2025-07-21T14:13:06.119398Z",
     "shell.execute_reply": "2025-07-21T14:13:06.118167Z"
    },
    "papermill": {
     "duration": 2.527217,
     "end_time": "2025-07-21T14:13:06.121557",
     "exception": false,
     "start_time": "2025-07-21T14:13:03.594340",
     "status": "completed"
    },
    "tags": []
   },
   "outputs": [],
   "source": [
    "\n",
    "missing_percent = train.isnull().sum() / train.shape[0]\n",
    "columns_to_drop = missing_percent[missing_percent > 0.90].index\n",
    "train.drop(columns=columns_to_drop, axis=1, inplace=True)\n"
   ]
  },
  {
   "cell_type": "code",
   "execution_count": 15,
   "id": "f12fe71d",
   "metadata": {
    "execution": {
     "iopub.execute_input": "2025-07-21T14:13:06.144325Z",
     "iopub.status.busy": "2025-07-21T14:13:06.142992Z",
     "iopub.status.idle": "2025-07-21T14:13:11.394152Z",
     "shell.execute_reply": "2025-07-21T14:13:11.392808Z"
    },
    "papermill": {
     "duration": 5.264116,
     "end_time": "2025-07-21T14:13:11.396300",
     "exception": false,
     "start_time": "2025-07-21T14:13:06.132184",
     "status": "completed"
    },
    "tags": []
   },
   "outputs": [],
   "source": [
    "# Fill remaining missing values with median\n",
    "train_transaction = train_transaction.fillna(train_transaction.median(numeric_only=True))"
   ]
  },
  {
   "cell_type": "code",
   "execution_count": 16,
   "id": "4b78ba17",
   "metadata": {
    "execution": {
     "iopub.execute_input": "2025-07-21T14:13:11.522598Z",
     "iopub.status.busy": "2025-07-21T14:13:11.522309Z",
     "iopub.status.idle": "2025-07-21T14:13:11.527040Z",
     "shell.execute_reply": "2025-07-21T14:13:11.526127Z"
    },
    "papermill": {
     "duration": 0.121694,
     "end_time": "2025-07-21T14:13:11.528789",
     "exception": false,
     "start_time": "2025-07-21T14:13:11.407095",
     "status": "completed"
    },
    "tags": []
   },
   "outputs": [],
   "source": [
    "del missing_values_count, total_cells, total_missing"
   ]
  },
  {
   "cell_type": "code",
   "execution_count": 17,
   "id": "13025a98",
   "metadata": {
    "execution": {
     "iopub.execute_input": "2025-07-21T14:13:11.551357Z",
     "iopub.status.busy": "2025-07-21T14:13:11.550981Z",
     "iopub.status.idle": "2025-07-21T14:13:11.556976Z",
     "shell.execute_reply": "2025-07-21T14:13:11.555983Z"
    },
    "papermill": {
     "duration": 0.02013,
     "end_time": "2025-07-21T14:13:11.558988",
     "exception": false,
     "start_time": "2025-07-21T14:13:11.538858",
     "status": "completed"
    },
    "tags": []
   },
   "outputs": [],
   "source": [
    "\n",
    "def coorelation_analysis(cols,title='Coorelation Analysis',size=(12,12)):\n",
    "    cols = sorted(cols)\n",
    "    fig,axes = plt.subplots(1,1,figsize=size)\n",
    "    df_corr = train_transaction[cols].corr()\n",
    "    sns.heatmap(df_corr,annot=True,cmap='RdBu_r')\n",
    "    axes.title.set_text(title)\n",
    "    plt.show()"
   ]
  },
  {
   "cell_type": "code",
   "execution_count": 18,
   "id": "f9e68993",
   "metadata": {
    "execution": {
     "iopub.execute_input": "2025-07-21T14:13:11.581296Z",
     "iopub.status.busy": "2025-07-21T14:13:11.580933Z",
     "iopub.status.idle": "2025-07-21T14:13:12.507527Z",
     "shell.execute_reply": "2025-07-21T14:13:12.506173Z"
    },
    "papermill": {
     "duration": 0.940314,
     "end_time": "2025-07-21T14:13:12.509412",
     "exception": false,
     "start_time": "2025-07-21T14:13:11.569098",
     "status": "completed"
    },
    "tags": []
   },
   "outputs": [
    {
     "data": {
      "image/png": "[encoded data removed]",
      "text/plain": [
       "<Figure size 1200x1200 with 2 Axes>"
      ]
     },
     "metadata": {},
     "output_type": "display_data"
    }
   ],
   "source": [
    "cols = ['V3', 'V9', 'V5', 'V11', 'V10', 'V8', 'V7', 'V6', 'V4', 'V2', 'V1']\n",
    "coorelation_analysis(cols,title='Coorelation Analysis: V1-V11')"
   ]
  },
  {
   "cell_type": "code",
   "execution_count": 19,
   "id": "ccd7794e",
   "metadata": {
    "execution": {
     "iopub.execute_input": "2025-07-21T14:13:12.533261Z",
     "iopub.status.busy": "2025-07-21T14:13:12.532792Z",
     "iopub.status.idle": "2025-07-21T14:13:16.333225Z",
     "shell.execute_reply": "2025-07-21T14:13:16.331868Z"
    },
    "papermill": {
     "duration": 3.814157,
     "end_time": "2025-07-21T14:13:16.335022",
     "exception": false,
     "start_time": "2025-07-21T14:13:12.520865",
     "status": "completed"
    },
    "tags": []
   },
   "outputs": [
    {
     "name": "stderr",
     "output_type": "stream",
     "text": [
      "/usr/local/lib/python3.11/dist-packages/seaborn/_oldcore.py:1119: FutureWarning: use_inf_as_na option is deprecated and will be removed in a future version. Convert inf values to NaN before operating instead.\n",
      "  with pd.option_context('mode.use_inf_as_na', True):\n",
      "/usr/local/lib/python3.11/dist-packages/seaborn/_oldcore.py:1075: FutureWarning: When grouping with a length-1 list-like, you will need to pass a length-1 tuple to get_group in a future version of pandas. Pass `(name,)` instead of `name` to silence this warning.\n",
      "  data_subset = grouped_data.get_group(pd_key)\n",
      "/usr/local/lib/python3.11/dist-packages/seaborn/_oldcore.py:1075: FutureWarning: When grouping with a length-1 list-like, you will need to pass a length-1 tuple to get_group in a future version of pandas. Pass `(name,)` instead of `name` to silence this warning.\n",
      "  data_subset = grouped_data.get_group(pd_key)\n"
     ]
    },
    {
     "data": {
      "image/png": "[encoded data removed]",
      "text/plain": [
       "<Figure size 1000x600 with 1 Axes>"
      ]
     },
     "metadata": {},
     "output_type": "display_data"
    }
   ],
   "source": [
    "# Transaction Amount Distribution by Fraud (histogram) (Helps identify suspicious amount ranges.)\n",
    "plt.figure(figsize=(10,6))\n",
    "sns.histplot(data=train_transaction, x='TransactionAmt', hue='isFraud', bins=100, kde=True, log_scale=True)\n",
    "plt.title(\"Transaction Amount Distribution by Fraud\")\n",
    "plt.xlabel(\"Transaction Amount (log scale)\")\n",
    "plt.ylabel(\"Frequency\")\n",
    "plt.show()\n"
   ]
  },
  {
   "cell_type": "code",
   "execution_count": 20,
   "id": "de849b88",
   "metadata": {
    "execution": {
     "iopub.execute_input": "2025-07-21T14:13:16.360920Z",
     "iopub.status.busy": "2025-07-21T14:13:16.360510Z",
     "iopub.status.idle": "2025-07-21T14:13:16.945763Z",
     "shell.execute_reply": "2025-07-21T14:13:16.944595Z"
    },
    "papermill": {
     "duration": 0.600159,
     "end_time": "2025-07-21T14:13:16.947513",
     "exception": false,
     "start_time": "2025-07-21T14:13:16.347354",
     "status": "completed"
    },
    "tags": []
   },
   "outputs": [
    {
     "name": "stderr",
     "output_type": "stream",
     "text": [
      "/tmp/ipykernel_13/2529875727.py:2: PerformanceWarning: DataFrame is highly fragmented.  This is usually the result of calling `frame.insert` many times, which has poor performance.  Consider joining all columns at once using pd.concat(axis=1) instead. To get a de-fragmented frame, use `newframe = frame.copy()`\n",
      "  train_transaction['TransactionDT_Hour'] = (train_transaction['TransactionDT'] // 3600) % 24\n",
      "/usr/local/lib/python3.11/dist-packages/seaborn/_oldcore.py:1119: FutureWarning: use_inf_as_na option is deprecated and will be removed in a future version. Convert inf values to NaN before operating instead.\n",
      "  with pd.option_context('mode.use_inf_as_na', True):\n",
      "/usr/local/lib/python3.11/dist-packages/seaborn/_oldcore.py:1075: FutureWarning: When grouping with a length-1 list-like, you will need to pass a length-1 tuple to get_group in a future version of pandas. Pass `(name,)` instead of `name` to silence this warning.\n",
      "  data_subset = grouped_data.get_group(pd_key)\n",
      "/usr/local/lib/python3.11/dist-packages/seaborn/_oldcore.py:1075: FutureWarning: When grouping with a length-1 list-like, you will need to pass a length-1 tuple to get_group in a future version of pandas. Pass `(name,)` instead of `name` to silence this warning.\n",
      "  data_subset = grouped_data.get_group(pd_key)\n",
      "/usr/local/lib/python3.11/dist-packages/seaborn/_oldcore.py:1075: FutureWarning: When grouping with a length-1 list-like, you will need to pass a length-1 tuple to get_group in a future version of pandas. Pass `(name,)` instead of `name` to silence this warning.\n",
      "  data_subset = grouped_data.get_group(pd_key)\n"
     ]
    },
    {
     "data": {
      "image/png": "[encoded data removed]",
      "text/plain": [
       "<Figure size 1000x600 with 1 Axes>"
      ]
     },
     "metadata": {},
     "output_type": "display_data"
    }
   ],
   "source": [
    "# Helps catch time-based fraud patterns.\n",
    "train_transaction['TransactionDT_Hour'] = (train_transaction['TransactionDT'] // 3600) % 24\n",
    "plt.figure(figsize=(10,6))\n",
    "sns.histplot(data=train_transaction, x='TransactionDT_Hour', hue='isFraud', bins=24, kde=False)\n",
    "plt.title(\"Hourly Transaction Frequency by Fraud\")\n",
    "plt.xlabel(\"Hour of Day\")\n",
    "plt.ylabel(\"Transaction Count\")\n",
    "plt.show()\n"
   ]
  },
  {
   "cell_type": "code",
   "execution_count": 21,
   "id": "d0a77e9e",
   "metadata": {
    "execution": {
     "iopub.execute_input": "2025-07-21T14:13:16.975980Z",
     "iopub.status.busy": "2025-07-21T14:13:16.975701Z",
     "iopub.status.idle": "2025-07-21T14:13:26.610316Z",
     "shell.execute_reply": "2025-07-21T14:13:26.609138Z"
    },
    "papermill": {
     "duration": 9.651687,
     "end_time": "2025-07-21T14:13:26.612963",
     "exception": false,
     "start_time": "2025-07-21T14:13:16.961276",
     "status": "completed"
    },
    "tags": []
   },
   "outputs": [
    {
     "data": {
      "image/png": "[encoded data removed]",
      "text/plain": [
       "<Figure size 1000x800 with 2 Axes>"
      ]
     },
     "metadata": {},
     "output_type": "display_data"
    }
   ],
   "source": [
    "numeric_cols = train_transaction.select_dtypes(include=['number']).drop(columns=['isFraud']).corrwith(train_transaction['isFraud'])\n",
    "top_features = numeric_cols.abs().sort_values(ascending=False).head(10).index\n",
    "\n",
    "plt.figure(figsize=(10,8))\n",
    "sns.heatmap(train_transaction[top_features.tolist() + ['isFraud']].corr(), annot=True, cmap='coolwarm')\n",
    "plt.title(\"Top Correlated Features with Fraud\")\n",
    "plt.show()\n"
   ]
  },
  {
   "cell_type": "code",
   "execution_count": 22,
   "id": "5b78c08b",
   "metadata": {
    "execution": {
     "iopub.execute_input": "2025-07-21T14:13:26.645495Z",
     "iopub.status.busy": "2025-07-21T14:13:26.645202Z",
     "iopub.status.idle": "2025-07-21T14:13:33.725413Z",
     "shell.execute_reply": "2025-07-21T14:13:33.724369Z"
    },
    "papermill": {
     "duration": 7.0989,
     "end_time": "2025-07-21T14:13:33.727561",
     "exception": false,
     "start_time": "2025-07-21T14:13:26.628661",
     "status": "completed"
    },
    "tags": []
   },
   "outputs": [],
   "source": [
    " train = train.drop(['TransactionID', 'TransactionDT'], axis=1)  # Drop ID cols\n",
    "train.fillna(-999, inplace=True)  # Fill missing values"
   ]
  },
  {
   "cell_type": "code",
   "execution_count": 23,
   "id": "246fd9b6",
   "metadata": {
    "execution": {
     "iopub.execute_input": "2025-07-21T14:13:33.761193Z",
     "iopub.status.busy": "2025-07-21T14:13:33.760802Z",
     "iopub.status.idle": "2025-07-21T14:13:36.045108Z",
     "shell.execute_reply": "2025-07-21T14:13:36.044100Z"
    },
    "papermill": {
     "duration": 2.303361,
     "end_time": "2025-07-21T14:13:36.046960",
     "exception": false,
     "start_time": "2025-07-21T14:13:33.743599",
     "status": "completed"
    },
    "tags": []
   },
   "outputs": [],
   "source": [
    "test = test.drop(['TransactionID', 'TransactionDT'], axis=1)\n",
    "test.fillna(-999, inplace=True)"
   ]
  },
  {
   "cell_type": "code",
   "execution_count": 24,
   "id": "dbd6f0aa",
   "metadata": {
    "execution": {
     "iopub.execute_input": "2025-07-21T14:13:36.078696Z",
     "iopub.status.busy": "2025-07-21T14:13:36.078342Z",
     "iopub.status.idle": "2025-07-21T14:15:40.494978Z",
     "shell.execute_reply": "2025-07-21T14:15:40.493895Z"
    },
    "papermill": {
     "duration": 124.434928,
     "end_time": "2025-07-21T14:15:40.497230",
     "exception": false,
     "start_time": "2025-07-21T14:13:36.062302",
     "status": "completed"
    },
    "tags": []
   },
   "outputs": [],
   "source": [
    "from sklearn.preprocessing import LabelEncoder\n",
    "\n",
    "# 1. Encode train and store encoders\n",
    "cat_cols = train.select_dtypes(include='object').columns\n",
    "encoders = {}\n",
    "\n",
    "for col in cat_cols:\n",
    "    le = LabelEncoder()\n",
    "    train[col] = le.fit_transform(train[col].astype(str))\n",
    "    encoders[col] = le \n",
    "\n",
    "# 2. Apply encoders to test\n",
    "for col in cat_cols:\n",
    "    if col in test.columns:\n",
    "        test[col] = test[col].astype(str)\n",
    "    else:\n",
    "        test[col] = 'unknown'\n",
    "\n",
    "    if col in encoders:\n",
    "        le = encoders[col]\n",
    "\n",
    "        # Handle unseen labels\n",
    "        test[col] = test[col].apply(lambda x: x if x in le.classes_ else 'unknown')\n",
    "\n",
    "        if 'unknown' not in le.classes_:\n",
    "            le.classes_ = np.append(le.classes_, 'unknown')\n",
    "\n",
    "        test[col] = le.transform(test[col])\n",
    "    else:\n",
    "        test[col] = -999\n"
   ]
  },
  {
   "cell_type": "code",
   "execution_count": 25,
   "id": "e9c5d3df",
   "metadata": {
    "execution": {
     "iopub.execute_input": "2025-07-21T14:15:40.533981Z",
     "iopub.status.busy": "2025-07-21T14:15:40.533593Z",
     "iopub.status.idle": "2025-07-21T14:15:40.540021Z",
     "shell.execute_reply": "2025-07-21T14:15:40.538842Z"
    },
    "papermill": {
     "duration": 0.026444,
     "end_time": "2025-07-21T14:15:40.541714",
     "exception": false,
     "start_time": "2025-07-21T14:15:40.515270",
     "status": "completed"
    },
    "tags": []
   },
   "outputs": [],
   "source": [
    "from sklearn.preprocessing import LabelEncoder\n",
    "\n",
    "def label_encode(df):\n",
    "    le = LabelEncoder()\n",
    "    for col in df.columns:\n",
    "        if df[col].dtype == 'object':\n",
    "            df[col] = le.fit_transform(df[col].astype(str))\n",
    "    return df\n"
   ]
  },
  {
   "cell_type": "code",
   "execution_count": 26,
   "id": "729a9aae",
   "metadata": {
    "execution": {
     "iopub.execute_input": "2025-07-21T14:15:40.574946Z",
     "iopub.status.busy": "2025-07-21T14:15:40.573737Z",
     "iopub.status.idle": "2025-07-21T14:20:46.967729Z",
     "shell.execute_reply": "2025-07-21T14:20:46.965191Z"
    },
    "papermill": {
     "duration": 306.419592,
     "end_time": "2025-07-21T14:20:46.976698",
     "exception": false,
     "start_time": "2025-07-21T14:15:40.557106",
     "status": "completed"
    },
    "tags": []
   },
   "outputs": [],
   "source": [
    "\n",
    "X = train.drop('isFraud', axis=1)\n",
    "features = X.columns.tolist()\n",
    "\n",
    "y = train['isFraud']\n",
    "X_train, X_val, y_train, y_val = train_test_split(X, y, test_size=0.2, random_state=42)\n",
    "\n",
    "#  Random Forest model with balanced class weights to fix el data\n",
    "rf_model = RandomForestClassifier(n_estimators=100, class_weight='balanced', random_state=42)\n",
    "rf_model.fit(X_train, y_train)\n",
    "rf_preds_prob = rf_model.predict_proba(X_val)[:, 1]\n",
    "rf_preds = rf_model.predict(X_val)"
   ]
  },
  {
   "cell_type": "code",
   "execution_count": 27,
   "id": "ef10bf51",
   "metadata": {
    "execution": {
     "iopub.execute_input": "2025-07-21T14:20:47.028145Z",
     "iopub.status.busy": "2025-07-21T14:20:47.027606Z",
     "iopub.status.idle": "2025-07-21T14:20:47.108654Z",
     "shell.execute_reply": "2025-07-21T14:20:47.106670Z"
    },
    "papermill": {
     "duration": 0.106244,
     "end_time": "2025-07-21T14:20:47.112668",
     "exception": false,
     "start_time": "2025-07-21T14:20:47.006424",
     "status": "completed"
    },
    "tags": []
   },
   "outputs": [
    {
     "name": "stdout",
     "output_type": "stream",
     "text": [
      "Random Forest ROC AUC: 0.9328506454392701\n",
      "Random Forest F1 Score: 0.573350836888743\n"
     ]
    }
   ],
   "source": [
    "print(\"Random Forest ROC AUC:\", roc_auc_score(y_val, rf_preds_prob))\n",
    "print(\"Random Forest F1 Score:\", f1_score(y_val, rf_preds))"
   ]
  },
  {
   "cell_type": "code",
   "execution_count": 28,
   "id": "838c5a6e",
   "metadata": {
    "execution": {
     "iopub.execute_input": "2025-07-21T14:20:47.151831Z",
     "iopub.status.busy": "2025-07-21T14:20:47.151432Z",
     "iopub.status.idle": "2025-07-21T14:21:32.134071Z",
     "shell.execute_reply": "2025-07-21T14:21:32.132981Z"
    },
    "papermill": {
     "duration": 45.004906,
     "end_time": "2025-07-21T14:21:32.136020",
     "exception": false,
     "start_time": "2025-07-21T14:20:47.131114",
     "status": "completed"
    },
    "tags": []
   },
   "outputs": [
    {
     "name": "stdout",
     "output_type": "stream",
     "text": [
      "[LightGBM] [Info] Number of positive: 16421, number of negative: 456011\n",
      "[LightGBM] [Info] Auto-choosing row-wise multi-threading, the overhead of testing was 1.203466 seconds.\n",
      "You can set `force_row_wise=true` to remove the overhead.\n",
      "And if memory is not enough, you can set `force_col_wise=true`.\n",
      "[LightGBM] [Info] Total Bins 37788\n",
      "[LightGBM] [Info] Number of data points in the train set: 472432, number of used features: 418\n",
      "[LightGBM] [Info] [binary:BoostFromScore]: pavg=0.500000 -> initscore=-0.000000\n",
      "[LightGBM] [Info] Start training from score -0.000000\n"
     ]
    }
   ],
   "source": [
    "# we will use lightgbm to boost el model \n",
    "import lightgbm as lgb\n",
    "\n",
    "lgb_model = lgb.LGBMClassifier(n_estimators=100, class_weight='balanced', random_state=42)\n",
    "lgb_model.fit(X_train, y_train)\n",
    "lgb_preds_prob = lgb_model.predict_proba(X_val)[:, 1]\n",
    "lgb_preds = lgb_model.predict(X_val)"
   ]
  },
  {
   "cell_type": "code",
   "execution_count": 29,
   "id": "0d6afea8",
   "metadata": {
    "execution": {
     "iopub.execute_input": "2025-07-21T14:21:32.170291Z",
     "iopub.status.busy": "2025-07-21T14:21:32.169232Z",
     "iopub.status.idle": "2025-07-21T14:21:32.176607Z",
     "shell.execute_reply": "2025-07-21T14:21:32.175441Z"
    },
    "papermill": {
     "duration": 0.02648,
     "end_time": "2025-07-21T14:21:32.178647",
     "exception": false,
     "start_time": "2025-07-21T14:21:32.152167",
     "status": "completed"
    },
    "tags": []
   },
   "outputs": [],
   "source": [
    "params = {\n",
    "    'objective': 'binary',\n",
    "    'metric': 'auc',\n",
    "    'boosting_type': 'gbdt',\n",
    "    'num_leaves': 64,\n",
    "    'learning_rate': 0.02,\n",
    "    'feature_fraction': 0.8,\n",
    "    'bagging_fraction': 0.8,\n",
    "    'bagging_freq': 5,\n",
    "    'max_depth': 10,\n",
    "    'class_weight': 'balanced',\n",
    "    'random_state': 42,\n",
    "    'verbosity': -1}"
   ]
  },
  {
   "cell_type": "code",
   "execution_count": 30,
   "id": "1688e48a",
   "metadata": {
    "execution": {
     "iopub.execute_input": "2025-07-21T14:21:32.211247Z",
     "iopub.status.busy": "2025-07-21T14:21:32.210861Z",
     "iopub.status.idle": "2025-07-21T14:21:32.216194Z",
     "shell.execute_reply": "2025-07-21T14:21:32.215225Z"
    },
    "papermill": {
     "duration": 0.024056,
     "end_time": "2025-07-21T14:21:32.218273",
     "exception": false,
     "start_time": "2025-07-21T14:21:32.194217",
     "status": "completed"
    },
    "tags": []
   },
   "outputs": [],
   "source": [
    "param_grid = {\n",
    "    'n_estimators': [100, 300],\n",
    "    'learning_rate': [0.05, 0.1],\n",
    "    'num_leaves': [31, 50],\n",
    "    'max_depth': [5, 10],\n",
    "    'min_child_samples': [20, 50]\n",
    "}\n"
   ]
  },
  {
   "cell_type": "code",
   "execution_count": 31,
   "id": "290a7f12",
   "metadata": {
    "execution": {
     "iopub.execute_input": "2025-07-21T14:21:32.253383Z",
     "iopub.status.busy": "2025-07-21T14:21:32.252993Z",
     "iopub.status.idle": "2025-07-21T14:21:32.336109Z",
     "shell.execute_reply": "2025-07-21T14:21:32.334540Z"
    },
    "papermill": {
     "duration": 0.103009,
     "end_time": "2025-07-21T14:21:32.338147",
     "exception": false,
     "start_time": "2025-07-21T14:21:32.235138",
     "status": "completed"
    },
    "tags": []
   },
   "outputs": [
    {
     "name": "stdout",
     "output_type": "stream",
     "text": [
      "LightGBM ROC AUC: 0.9315182439439534\n",
      "LightGBM F1 Score: 0.3442280945757997\n"
     ]
    }
   ],
   "source": [
    "print(\"LightGBM ROC AUC:\", roc_auc_score(y_val, lgb_preds_prob))\n",
    "print(\"LightGBM F1 Score:\", f1_score(y_val, lgb_preds))"
   ]
  },
  {
   "cell_type": "code",
   "execution_count": 32,
   "id": "31926cd9",
   "metadata": {
    "execution": {
     "iopub.execute_input": "2025-07-21T14:21:32.372372Z",
     "iopub.status.busy": "2025-07-21T14:21:32.371753Z",
     "iopub.status.idle": "2025-07-21T14:21:32.379449Z",
     "shell.execute_reply": "2025-07-21T14:21:32.378397Z"
    },
    "papermill": {
     "duration": 0.026712,
     "end_time": "2025-07-21T14:21:32.381226",
     "exception": false,
     "start_time": "2025-07-21T14:21:32.354514",
     "status": "completed"
    },
    "tags": []
   },
   "outputs": [],
   "source": [
    "# next we will average the predicted prob. to reduce individual weaknesses and improve overall performance \n",
    "combined_preds_prob = (rf_preds_prob + lgb_preds_prob) / 2\n",
    "combined_preds = (combined_preds_prob > 0.5).astype(int)"
   ]
  },
  {
   "cell_type": "code",
   "execution_count": 33,
   "id": "714414d4",
   "metadata": {
    "execution": {
     "iopub.execute_input": "2025-07-21T14:21:32.415766Z",
     "iopub.status.busy": "2025-07-21T14:21:32.415380Z",
     "iopub.status.idle": "2025-07-21T14:21:40.956405Z",
     "shell.execute_reply": "2025-07-21T14:21:40.955295Z"
    },
    "papermill": {
     "duration": 8.561663,
     "end_time": "2025-07-21T14:21:40.958522",
     "exception": false,
     "start_time": "2025-07-21T14:21:32.396859",
     "status": "completed"
    },
    "tags": []
   },
   "outputs": [],
   "source": [
    "# These are arrays of predicted probabilities from each model\n",
    "rf_preds_prob = rf_model.predict_proba(X_val)[:, 1]\n",
    "lgb_preds_prob = lgb_model.predict_proba(X_val)[:, 1]\n"
   ]
  },
  {
   "cell_type": "code",
   "execution_count": 34,
   "id": "283c6661",
   "metadata": {
    "execution": {
     "iopub.execute_input": "2025-07-21T14:21:40.992777Z",
     "iopub.status.busy": "2025-07-21T14:21:40.992423Z",
     "iopub.status.idle": "2025-07-21T14:21:40.998694Z",
     "shell.execute_reply": "2025-07-21T14:21:40.997683Z"
    },
    "papermill": {
     "duration": 0.026574,
     "end_time": "2025-07-21T14:21:41.000790",
     "exception": false,
     "start_time": "2025-07-21T14:21:40.974216",
     "status": "completed"
    },
    "tags": []
   },
   "outputs": [],
   "source": [
    "combined_preds_prob = (rf_preds_prob + lgb_preds_prob) / 2\n"
   ]
  },
  {
   "cell_type": "code",
   "execution_count": 35,
   "id": "be770114",
   "metadata": {
    "execution": {
     "iopub.execute_input": "2025-07-21T14:21:41.036321Z",
     "iopub.status.busy": "2025-07-21T14:21:41.035915Z",
     "iopub.status.idle": "2025-07-21T14:21:41.042152Z",
     "shell.execute_reply": "2025-07-21T14:21:41.041039Z"
    },
    "papermill": {
     "duration": 0.026219,
     "end_time": "2025-07-21T14:21:41.044263",
     "exception": false,
     "start_time": "2025-07-21T14:21:41.018044",
     "status": "completed"
    },
    "tags": []
   },
   "outputs": [],
   "source": [
    "# لو اكبر من ال 0.5 يبقى fraud لو اقل تبقى 0\n",
    "combined_preds = (combined_preds_prob > 0.5).astype(int)"
   ]
  },
  {
   "cell_type": "code",
   "execution_count": 36,
   "id": "132fe7fa",
   "metadata": {
    "execution": {
     "iopub.execute_input": "2025-07-21T14:21:41.079884Z",
     "iopub.status.busy": "2025-07-21T14:21:41.079515Z",
     "iopub.status.idle": "2025-07-21T14:21:41.165384Z",
     "shell.execute_reply": "2025-07-21T14:21:41.164110Z"
    },
    "papermill": {
     "duration": 0.106272,
     "end_time": "2025-07-21T14:21:41.167476",
     "exception": false,
     "start_time": "2025-07-21T14:21:41.061204",
     "status": "completed"
    },
    "tags": []
   },
   "outputs": [
    {
     "data": {
      "text/plain": [
       "0.66163489829858"
      ]
     },
     "execution_count": 36,
     "metadata": {},
     "output_type": "execute_result"
    }
   ],
   "source": [
    "# evaluation finally\n",
    "roc_auc_score(y_val, combined_preds_prob)\n",
    "f1_score(y_val, combined_preds)\n"
   ]
  },
  {
   "cell_type": "code",
   "execution_count": 37,
   "id": "f07cf28a",
   "metadata": {
    "execution": {
     "iopub.execute_input": "2025-07-21T14:21:41.201570Z",
     "iopub.status.busy": "2025-07-21T14:21:41.201243Z",
     "iopub.status.idle": "2025-07-21T14:22:09.598577Z",
     "shell.execute_reply": "2025-07-21T14:22:09.597422Z"
    },
    "papermill": {
     "duration": 28.417085,
     "end_time": "2025-07-21T14:22:09.600989",
     "exception": false,
     "start_time": "2025-07-21T14:21:41.183904",
     "status": "completed"
    },
    "tags": []
   },
   "outputs": [],
   "source": [
    "\n",
    "test_transaction = pd.read_csv('/kaggle/input/ieee-fraud-detection/test_transaction.csv')\n",
    "test_identity = pd.read_csv('/kaggle/input/ieee-fraud-detection/test_identity.csv')\n",
    "\n",
    "# Step 2: Merge on TransactionID\n",
    "test = test_transaction.merge(test_identity, how='left', on='TransactionID')\n",
    "\n",
    " # Add missing columns (like id_01 to id_38) if they don't exist in test\n",
    "for col in features:\n",
    "    if col not in test.columns:\n",
    "        test[col] = -999  # Or any default fill value used in training\n"
   ]
  },
  {
   "cell_type": "code",
   "execution_count": 38,
   "id": "848f8595",
   "metadata": {
    "execution": {
     "iopub.execute_input": "2025-07-21T14:22:09.638064Z",
     "iopub.status.busy": "2025-07-21T14:22:09.637684Z",
     "iopub.status.idle": "2025-07-21T14:22:11.251033Z",
     "shell.execute_reply": "2025-07-21T14:22:11.250016Z"
    },
    "papermill": {
     "duration": 1.633558,
     "end_time": "2025-07-21T14:22:11.253206",
     "exception": false,
     "start_time": "2025-07-21T14:22:09.619648",
     "status": "completed"
    },
    "tags": []
   },
   "outputs": [],
   "source": [
    "# Add missing columns\n",
    "missing_cols = set(features) - set(test.columns)\n",
    "for col in missing_cols:\n",
    "    test[col] = -999  \n",
    "\n",
    "# Remove extra columns\n",
    "extra_cols = set(test.columns) - set(features)\n",
    "test = test.drop(columns=extra_cols)\n",
    "\n",
    "# Ensure correct order\n",
    "test = test[features]\n"
   ]
  },
  {
   "cell_type": "code",
   "execution_count": 39,
   "id": "c16f8f1a",
   "metadata": {
    "execution": {
     "iopub.execute_input": "2025-07-21T14:22:11.290686Z",
     "iopub.status.busy": "2025-07-21T14:22:11.290363Z",
     "iopub.status.idle": "2025-07-21T14:22:14.311244Z",
     "shell.execute_reply": "2025-07-21T14:22:14.310157Z"
    },
    "papermill": {
     "duration": 3.042424,
     "end_time": "2025-07-21T14:22:14.313522",
     "exception": false,
     "start_time": "2025-07-21T14:22:11.271098",
     "status": "completed"
    },
    "tags": []
   },
   "outputs": [],
   "source": [
    "X_test = test[features]\n",
    "X_test = X_test.fillna(-999)\n"
   ]
  },
  {
   "cell_type": "code",
   "execution_count": 40,
   "id": "a9cc1fff",
   "metadata": {
    "execution": {
     "iopub.execute_input": "2025-07-21T14:22:14.349911Z",
     "iopub.status.busy": "2025-07-21T14:22:14.349580Z",
     "iopub.status.idle": "2025-07-21T14:22:16.974638Z",
     "shell.execute_reply": "2025-07-21T14:22:16.973427Z"
    },
    "papermill": {
     "duration": 2.645038,
     "end_time": "2025-07-21T14:22:16.976596",
     "exception": false,
     "start_time": "2025-07-21T14:22:14.331558",
     "status": "completed"
    },
    "tags": []
   },
   "outputs": [],
   "source": [
    "# Encode training data\n",
    "X = label_encode(X)\n",
    "\n",
    "# Encode test data (same features)\n",
    "X_test = label_encode(X_test)\n"
   ]
  },
  {
   "cell_type": "code",
   "execution_count": 41,
   "id": "95126542",
   "metadata": {
    "execution": {
     "iopub.execute_input": "2025-07-21T14:22:17.009917Z",
     "iopub.status.busy": "2025-07-21T14:22:17.008981Z",
     "iopub.status.idle": "2025-07-21T14:30:17.592451Z",
     "shell.execute_reply": "2025-07-21T14:30:17.591252Z"
    },
    "papermill": {
     "duration": 480.619005,
     "end_time": "2025-07-21T14:30:17.611336",
     "exception": false,
     "start_time": "2025-07-21T14:22:16.992331",
     "status": "completed"
    },
    "tags": []
   },
   "outputs": [
    {
     "data": {
      "text/html": [
       "<style>#sk-container-id-1 {color: black;background-color: white;}#sk-container-id-1 pre{padding: 0;}#sk-container-id-1 div.sk-toggleable {background-color: white;}#sk-container-id-1 label.sk-toggleable__label {cursor: pointer;display: block;width: 100%;margin-bottom: 0;padding: 0.3em;box-sizing: border-box;text-align: center;}#sk-container-id-1 label.sk-toggleable__label-arrow:before {content: \"▸\";float: left;margin-right: 0.25em;color: #696969;}#sk-container-id-1 label.sk-toggleable__label-arrow:hover:before {color: black;}#sk-container-id-1 div.sk-estimator:hover label.sk-toggleable__label-arrow:before {color: black;}#sk-container-id-1 div.sk-toggleable__content {max-height: 0;max-width: 0;overflow: hidden;text-align: left;background-color: #f0f8ff;}#sk-container-id-1 div.sk-toggleable__content pre {margin: 0.2em;color: black;border-radius: 0.25em;background-color: #f0f8ff;}#sk-container-id-1 input.sk-toggleable__control:checked~div.sk-toggleable__content {max-height: 200px;max-width: 100%;overflow: auto;}#sk-container-id-1 input.sk-toggleable__control:checked~label.sk-toggleable__label-arrow:before {content: \"▾\";}#sk-container-id-1 div.sk-estimator input.sk-toggleable__control:checked~label.sk-toggleable__label {background-color: #d4ebff;}#sk-container-id-1 div.sk-label input.sk-toggleable__control:checked~label.sk-toggleable__label {background-color: #d4ebff;}#sk-container-id-1 input.sk-hidden--visually {border: 0;clip: rect(1px 1px 1px 1px);clip: rect(1px, 1px, 1px, 1px);height: 1px;margin: -1px;overflow: hidden;padding: 0;position: absolute;width: 1px;}#sk-container-id-1 div.sk-estimator {font-family: monospace;background-color: #f0f8ff;border: 1px dotted black;border-radius: 0.25em;box-sizing: border-box;margin-bottom: 0.5em;}#sk-container-id-1 div.sk-estimator:hover {background-color: #d4ebff;}#sk-container-id-1 div.sk-parallel-item::after {content: \"\";width: 100%;border-bottom: 1px solid gray;flex-grow: 1;}#sk-container-id-1 div.sk-label:hover label.sk-toggleable__label {background-color: #d4ebff;}#sk-container-id-1 div.sk-serial::before {content: \"\";position: absolute;border-left: 1px solid gray;box-sizing: border-box;top: 0;bottom: 0;left: 50%;z-index: 0;}#sk-container-id-1 div.sk-serial {display: flex;flex-direction: column;align-items: center;background-color: white;padding-right: 0.2em;padding-left: 0.2em;position: relative;}#sk-container-id-1 div.sk-item {position: relative;z-index: 1;}#sk-container-id-1 div.sk-parallel {display: flex;align-items: stretch;justify-content: center;background-color: white;position: relative;}#sk-container-id-1 div.sk-item::before, #sk-container-id-1 div.sk-parallel-item::before {content: \"\";position: absolute;border-left: 1px solid gray;box-sizing: border-box;top: 0;bottom: 0;left: 50%;z-index: -1;}#sk-container-id-1 div.sk-parallel-item {display: flex;flex-direction: column;z-index: 1;position: relative;background-color: white;}#sk-container-id-1 div.sk-parallel-item:first-child::after {align-self: flex-end;width: 50%;}#sk-container-id-1 div.sk-parallel-item:last-child::after {align-self: flex-start;width: 50%;}#sk-container-id-1 div.sk-parallel-item:only-child::after {width: 0;}#sk-container-id-1 div.sk-dashed-wrapped {border: 1px dashed gray;margin: 0 0.4em 0.5em 0.4em;box-sizing: border-box;padding-bottom: 0.4em;background-color: white;}#sk-container-id-1 div.sk-label label {font-family: monospace;font-weight: bold;display: inline-block;line-height: 1.2em;}#sk-container-id-1 div.sk-label-container {text-align: center;}#sk-container-id-1 div.sk-container {/* jupyter's `normalize.less` sets `[hidden] { display: none; }` but bootstrap.min.css set `[hidden] { display: none !important; }` so we also need the `!important` here to be able to override the default hidden behavior on the sphinx rendered scikit-learn.org. See: https://github.com/scikit-learn/scikit-learn/issues/21755 */display: inline-block !important;position: relative;}#sk-container-id-1 div.sk-text-repr-fallback {display: none;}</style><div id=\"sk-container-id-1\" class=\"sk-top-container\"><div class=\"sk-text-repr-fallback\"><pre>RandomForestClassifier(class_weight=&#x27;balanced&#x27;, random_state=42)</pre><b>In a Jupyter environment, please rerun this cell to show the HTML representation or trust the notebook. <br />On GitHub, the HTML representation is unable to render, please try loading this page with nbviewer.org.</b></div><div class=\"sk-container\" hidden><div class=\"sk-item\"><div class=\"sk-estimator sk-toggleable\"><input class=\"sk-toggleable__control sk-hidden--visually\" id=\"sk-estimator-id-1\" type=\"checkbox\" checked><label for=\"sk-estimator-id-1\" class=\"sk-toggleable__label sk-toggleable__label-arrow\">RandomForestClassifier</label><div class=\"sk-toggleable__content\"><pre>RandomForestClassifier(class_weight=&#x27;balanced&#x27;, random_state=42)</pre></div></div></div></div></div>"
      ],
      "text/plain": [
       "RandomForestClassifier(class_weight='balanced', random_state=42)"
      ]
     },
     "execution_count": 41,
     "metadata": {},
     "output_type": "execute_result"
    }
   ],
   "source": [
    "\n",
    "rf_model.fit(X, y)\n"
   ]
  },
  {
   "cell_type": "code",
   "execution_count": 42,
   "id": "ce4eeb2b",
   "metadata": {
    "execution": {
     "iopub.execute_input": "2025-07-21T14:30:17.649283Z",
     "iopub.status.busy": "2025-07-21T14:30:17.648802Z",
     "iopub.status.idle": "2025-07-21T14:30:52.103190Z",
     "shell.execute_reply": "2025-07-21T14:30:52.101953Z"
    },
    "papermill": {
     "duration": 34.491588,
     "end_time": "2025-07-21T14:30:52.119908",
     "exception": false,
     "start_time": "2025-07-21T14:30:17.628320",
     "status": "completed"
    },
    "tags": []
   },
   "outputs": [
    {
     "data": {
      "text/plain": [
       "array([[0.97, 0.03],\n",
       "       [0.98, 0.02],\n",
       "       [0.97, 0.03],\n",
       "       ...,\n",
       "       [1.  , 0.  ],\n",
       "       [1.  , 0.  ],\n",
       "       [0.94, 0.06]])"
      ]
     },
     "execution_count": 42,
     "metadata": {},
     "output_type": "execute_result"
    }
   ],
   "source": [
    "X_test = label_encode(X_test)\n",
    "rf_model.predict_proba(X_test)\n"
   ]
  },
  {
   "cell_type": "code",
   "execution_count": 43,
   "id": "7ba9df7d",
   "metadata": {
    "execution": {
     "iopub.execute_input": "2025-07-21T14:30:52.154456Z",
     "iopub.status.busy": "2025-07-21T14:30:52.154018Z",
     "iopub.status.idle": "2025-07-21T14:31:25.958186Z",
     "shell.execute_reply": "2025-07-21T14:31:25.957120Z"
    },
    "papermill": {
     "duration": 33.824032,
     "end_time": "2025-07-21T14:31:25.960352",
     "exception": false,
     "start_time": "2025-07-21T14:30:52.136320",
     "status": "completed"
    },
    "tags": []
   },
   "outputs": [],
   "source": [
    "# Get predicted probabilities\n",
    "rf_test_probs = rf_model.predict_proba(X_test)[:, 1]\n",
    "lgb_test_probs = lgb_model.predict_proba(X_test)[:, 1]\n",
    "\n",
    "combined_test_probs = (rf_test_probs + lgb_test_probs) / 2\n",
    "\n"
   ]
  },
  {
   "cell_type": "code",
   "execution_count": 44,
   "id": "15ea5579",
   "metadata": {
    "execution": {
     "iopub.execute_input": "2025-07-21T14:31:25.995709Z",
     "iopub.status.busy": "2025-07-21T14:31:25.994734Z",
     "iopub.status.idle": "2025-07-21T14:31:26.006338Z",
     "shell.execute_reply": "2025-07-21T14:31:26.005120Z"
    },
    "papermill": {
     "duration": 0.031031,
     "end_time": "2025-07-21T14:31:26.008789",
     "exception": false,
     "start_time": "2025-07-21T14:31:25.977758",
     "status": "completed"
    },
    "tags": []
   },
   "outputs": [
    {
     "data": {
      "text/html": [
       "<div>\n",
       "<style scoped>\n",
       "    .dataframe tbody tr th:only-of-type {\n",
       "        vertical-align: middle;\n",
       "    }\n",
       "\n",
       "    .dataframe tbody tr th {\n",
       "        vertical-align: top;\n",
       "    }\n",
       "\n",
       "    .dataframe thead th {\n",
       "        text-align: right;\n",
       "    }\n",
       "</style>\n",
       "<table border=\"1\" class=\"dataframe\">\n",
       "  <thead>\n",
       "    <tr style=\"text-align: right;\">\n",
       "      <th></th>\n",
       "      <th>combined_probs</th>\n",
       "    </tr>\n",
       "  </thead>\n",
       "  <tbody>\n",
       "    <tr>\n",
       "      <th>0</th>\n",
       "      <td>0.054905</td>\n",
       "    </tr>\n",
       "    <tr>\n",
       "      <th>1</th>\n",
       "      <td>0.087531</td>\n",
       "    </tr>\n",
       "    <tr>\n",
       "      <th>2</th>\n",
       "      <td>0.101016</td>\n",
       "    </tr>\n",
       "    <tr>\n",
       "      <th>3</th>\n",
       "      <td>0.034685</td>\n",
       "    </tr>\n",
       "    <tr>\n",
       "      <th>4</th>\n",
       "      <td>0.059579</td>\n",
       "    </tr>\n",
       "    <tr>\n",
       "      <th>5</th>\n",
       "      <td>0.051398</td>\n",
       "    </tr>\n",
       "    <tr>\n",
       "      <th>6</th>\n",
       "      <td>0.188696</td>\n",
       "    </tr>\n",
       "    <tr>\n",
       "      <th>7</th>\n",
       "      <td>0.286256</td>\n",
       "    </tr>\n",
       "    <tr>\n",
       "      <th>8</th>\n",
       "      <td>0.024578</td>\n",
       "    </tr>\n",
       "    <tr>\n",
       "      <th>9</th>\n",
       "      <td>0.103810</td>\n",
       "    </tr>\n",
       "  </tbody>\n",
       "</table>\n",
       "</div>"
      ],
      "text/plain": [
       "   combined_probs\n",
       "0        0.054905\n",
       "1        0.087531\n",
       "2        0.101016\n",
       "3        0.034685\n",
       "4        0.059579\n",
       "5        0.051398\n",
       "6        0.188696\n",
       "7        0.286256\n",
       "8        0.024578\n",
       "9        0.103810"
      ]
     },
     "execution_count": 44,
     "metadata": {},
     "output_type": "execute_result"
    }
   ],
   "source": [
    "pd.DataFrame({'combined_probs': combined_test_probs[:10]})\n"
   ]
  },
  {
   "cell_type": "code",
   "execution_count": 45,
   "id": "cff44f60",
   "metadata": {
    "execution": {
     "iopub.execute_input": "2025-07-21T14:31:26.042502Z",
     "iopub.status.busy": "2025-07-21T14:31:26.042099Z",
     "iopub.status.idle": "2025-07-21T14:31:57.864300Z",
     "shell.execute_reply": "2025-07-21T14:31:57.863165Z"
    },
    "papermill": {
     "duration": 31.841627,
     "end_time": "2025-07-21T14:31:57.866455",
     "exception": false,
     "start_time": "2025-07-21T14:31:26.024828",
     "status": "completed"
    },
    "tags": []
   },
   "outputs": [],
   "source": [
    "rf_test_probs = rf_model.predict_proba(X_test)[:, 1]\n",
    "lgb_test_probs = lgb_model.predict_proba(X_test)[:, 1]\n",
    "combined_test_probs = (rf_test_probs + lgb_test_probs) / 2\n",
    "\n",
    "submission = pd.DataFrame({\n",
    "    'TransactionID': test_transaction['TransactionID'],\n",
    "    'isFraud': combined_test_probs\n",
    "})\n"
   ]
  },
  {
   "cell_type": "code",
   "execution_count": 46,
   "id": "1330b52a",
   "metadata": {
    "execution": {
     "iopub.execute_input": "2025-07-21T14:31:57.899844Z",
     "iopub.status.busy": "2025-07-21T14:31:57.899554Z",
     "iopub.status.idle": "2025-07-21T14:31:57.909497Z",
     "shell.execute_reply": "2025-07-21T14:31:57.908298Z"
    },
    "papermill": {
     "duration": 0.028467,
     "end_time": "2025-07-21T14:31:57.911083",
     "exception": false,
     "start_time": "2025-07-21T14:31:57.882616",
     "status": "completed"
    },
    "tags": []
   },
   "outputs": [
    {
     "data": {
      "text/html": [
       "<div>\n",
       "<style scoped>\n",
       "    .dataframe tbody tr th:only-of-type {\n",
       "        vertical-align: middle;\n",
       "    }\n",
       "\n",
       "    .dataframe tbody tr th {\n",
       "        vertical-align: top;\n",
       "    }\n",
       "\n",
       "    .dataframe thead th {\n",
       "        text-align: right;\n",
       "    }\n",
       "</style>\n",
       "<table border=\"1\" class=\"dataframe\">\n",
       "  <thead>\n",
       "    <tr style=\"text-align: right;\">\n",
       "      <th></th>\n",
       "      <th>TransactionID</th>\n",
       "      <th>isFraud</th>\n",
       "    </tr>\n",
       "  </thead>\n",
       "  <tbody>\n",
       "    <tr>\n",
       "      <th>0</th>\n",
       "      <td>3663549</td>\n",
       "      <td>0.054905</td>\n",
       "    </tr>\n",
       "    <tr>\n",
       "      <th>1</th>\n",
       "      <td>3663550</td>\n",
       "      <td>0.087531</td>\n",
       "    </tr>\n",
       "    <tr>\n",
       "      <th>2</th>\n",
       "      <td>3663551</td>\n",
       "      <td>0.101016</td>\n",
       "    </tr>\n",
       "    <tr>\n",
       "      <th>3</th>\n",
       "      <td>3663552</td>\n",
       "      <td>0.034685</td>\n",
       "    </tr>\n",
       "    <tr>\n",
       "      <th>4</th>\n",
       "      <td>3663553</td>\n",
       "      <td>0.059579</td>\n",
       "    </tr>\n",
       "  </tbody>\n",
       "</table>\n",
       "</div>"
      ],
      "text/plain": [
       "   TransactionID   isFraud\n",
       "0        3663549  0.054905\n",
       "1        3663550  0.087531\n",
       "2        3663551  0.101016\n",
       "3        3663552  0.034685\n",
       "4        3663553  0.059579"
      ]
     },
     "execution_count": 46,
     "metadata": {},
     "output_type": "execute_result"
    }
   ],
   "source": [
    "submission.head()\n"
   ]
  },
  {
   "cell_type": "code",
   "execution_count": 47,
   "id": "eda63897",
   "metadata": {
    "execution": {
     "iopub.execute_input": "2025-07-21T14:31:57.945269Z",
     "iopub.status.busy": "2025-07-21T14:31:57.944831Z",
     "iopub.status.idle": "2025-07-21T14:31:59.212393Z",
     "shell.execute_reply": "2025-07-21T14:31:59.211147Z"
    },
    "papermill": {
     "duration": 1.287466,
     "end_time": "2025-07-21T14:31:59.214361",
     "exception": false,
     "start_time": "2025-07-21T14:31:57.926895",
     "status": "completed"
    },
    "tags": []
   },
   "outputs": [],
   "source": [
    "submission.to_csv(\"submission.csv\", index=False)\n"
   ]
  },
  {
   "cell_type": "code",
   "execution_count": 48,
   "id": "b7c2ad3e",
   "metadata": {
    "execution": {
     "iopub.execute_input": "2025-07-21T14:31:59.249944Z",
     "iopub.status.busy": "2025-07-21T14:31:59.249644Z",
     "iopub.status.idle": "2025-07-21T14:31:59.491700Z",
     "shell.execute_reply": "2025-07-21T14:31:59.490423Z"
    },
    "papermill": {
     "duration": 0.262072,
     "end_time": "2025-07-21T14:31:59.493712",
     "exception": false,
     "start_time": "2025-07-21T14:31:59.231640",
     "status": "completed"
    },
    "tags": []
   },
   "outputs": [
    {
     "data": {
      "image/png": "[encoded data removed]",
      "text/plain": [
       "<Figure size 640x480 with 1 Axes>"
      ]
     },
     "metadata": {},
     "output_type": "display_data"
    }
   ],
   "source": [
    "import matplotlib.pyplot as plt\n",
    "\n",
    "plt.hist(combined_test_probs, bins=50)\n",
    "plt.title(\"Predicted Fraud Probabilities\")\n",
    "plt.xlabel(\"Probability\")\n",
    "plt.ylabel(\"Frequency\")\n",
    "plt.show()\n"
   ]
  }
 ],
 "metadata": {
  "kaggle": {
   "accelerator": "none",
   "dataSources": [
    {
     "databundleVersionId": 568274,
     "sourceId": 14242,
     "sourceType": "competition"
    }
   ],
   "dockerImageVersionId": 31090,
   "isGpuEnabled": false,
   "isInternetEnabled": true,
   "language": "python",
   "sourceType": "notebook"
  },
  "kernelspec": {
   "display_name": "Python 3",
   "language": "python",
   "name": "python3"
  },
  "language_info": {
   "codemirror_mode": {
    "name": "ipython",
    "version": 3
   },
   "file_extension": ".py",
   "mimetype": "text/x-python",
   "name": "python",
   "nbconvert_exporter": "python",
   "pygments_lexer": "ipython3",
   "version": "3.11.13"
  },
  "papermill": {
   "default_parameters": {},
   "duration": 1231.056923,
   "end_time": "2025-07-21T14:32:02.475751",
   "environment_variables": {},
   "exception": null,
   "input_path": "__notebook__.ipynb",
   "output_path": "__notebook__.ipynb",
   "parameters": {},
   "start_time": "2025-07-21T14:11:31.418828",
   "version": "2.6.0"
  }
 },
 "nbformat": 4,
 "nbformat_minor": 5
}
